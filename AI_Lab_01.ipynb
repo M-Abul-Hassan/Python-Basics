{
  "nbformat": 4,
  "nbformat_minor": 0,
  "metadata": {
    "colab": {
      "provenance": [],
      "authorship_tag": "ABX9TyNgUgARWYd+6rIq5ArRjMcH",
      "include_colab_link": true
    },
    "kernelspec": {
      "name": "python3",
      "display_name": "Python 3"
    },
    "language_info": {
      "name": "python"
    }
  },
  "cells": [
    {
      "cell_type": "markdown",
      "metadata": {
        "id": "view-in-github",
        "colab_type": "text"
      },
      "source": [
        "<a href=\"https://colab.research.google.com/github/M-Abul-Hassan/Python-Basics/blob/main/AI_Lab_01.ipynb\" target=\"_parent\"><img src=\"https://colab.research.google.com/assets/colab-badge.svg\" alt=\"Open In Colab\"/></a>"
      ]
    },
    {
      "cell_type": "markdown",
      "source": [
        "# **Artificial Intelligence Lab**\n",
        "# **Lab 01**\n",
        "# **BY Muhammad Abul Hassan**\n",
        "# **Practice all the examples mentioned in lab 01**\n",
        "\n",
        "# **Basics of Python**"
      ],
      "metadata": {
        "id": "CCry6HjdtVxY"
      }
    },
    {
      "cell_type": "markdown",
      "source": [
        "Example 01: Create variable of all types, print values and types of all variables."
      ],
      "metadata": {
        "id": "H2uVhbOrmAf6"
      }
    },
    {
      "cell_type": "code",
      "source": [
        "i = 20\n",
        "print (\"The data type of i is \" , type (i))"
      ],
      "metadata": {
        "id": "iQM76yvltve2",
        "colab": {
          "base_uri": "https://localhost:8080/"
        },
        "outputId": "0c6cdb1e-74aa-4d80-a50e-c3dd456e5f58"
      },
      "execution_count": null,
      "outputs": [
        {
          "output_type": "stream",
          "name": "stdout",
          "text": [
            "The data type of i is  <class 'int'>\n"
          ]
        }
      ]
    },
    {
      "cell_type": "code",
      "source": [
        "x = 'xyz'\n",
        "print (\"The data type of x is \" , type (x))\n"
      ],
      "metadata": {
        "colab": {
          "base_uri": "https://localhost:8080/"
        },
        "id": "x6yXBlMEmTqx",
        "outputId": "ef8ffdb9-f454-4a24-b083-b7155b1ea03a"
      },
      "execution_count": null,
      "outputs": [
        {
          "output_type": "stream",
          "name": "stdout",
          "text": [
            "The data type of x is  <class 'str'>\n"
          ]
        }
      ]
    },
    {
      "cell_type": "code",
      "source": [
        "z = 2+3j\n",
        "print (\"The data type of z is \" , type (z))"
      ],
      "metadata": {
        "colab": {
          "base_uri": "https://localhost:8080/"
        },
        "id": "sTEstqtkm09Y",
        "outputId": "2f9e1f2e-e60d-4d83-8c34-62ba7c845b6f"
      },
      "execution_count": null,
      "outputs": [
        {
          "output_type": "stream",
          "name": "stdout",
          "text": [
            "The data type of z is  <class 'complex'>\n"
          ]
        }
      ]
    },
    {
      "cell_type": "code",
      "source": [
        "j = 0.9\n",
        "print (\"The data type of j is \" , type (j))"
      ],
      "metadata": {
        "colab": {
          "base_uri": "https://localhost:8080/"
        },
        "id": "Qg0W1bKLnAMQ",
        "outputId": "81d0eeed-fd89-41dc-ad36-e4c988d0d974"
      },
      "execution_count": null,
      "outputs": [
        {
          "output_type": "stream",
          "name": "stdout",
          "text": [
            "The data type of j is  <class 'float'>\n"
          ]
        }
      ]
    },
    {
      "cell_type": "code",
      "source": [
        "check = True\n",
        "print (\"The data type of check is \" , type (check))"
      ],
      "metadata": {
        "colab": {
          "base_uri": "https://localhost:8080/"
        },
        "id": "TfejMpTnnHrh",
        "outputId": "25a5f05e-3db2-4352-ffe9-5b3a3e0ae28a"
      },
      "execution_count": null,
      "outputs": [
        {
          "output_type": "stream",
          "name": "stdout",
          "text": [
            "The data type of check is  <class 'bool'>\n"
          ]
        }
      ]
    },
    {
      "cell_type": "markdown",
      "source": [
        "**Example 02: Take input from user(two numbers) and perfrom all arithmetic and logical operations on it and print results.**"
      ],
      "metadata": {
        "id": "dz4EX9jSnVID"
      }
    },
    {
      "cell_type": "code",
      "source": [
        "num = input(\"Enter 1st Number = \")\n",
        "num"
      ],
      "metadata": {
        "colab": {
          "base_uri": "https://localhost:8080/",
          "height": 52
        },
        "id": "MFTnG40pnRIX",
        "outputId": "fb0b6a74-4cb4-41e0-fcd0-80ff0b946f83"
      },
      "execution_count": null,
      "outputs": [
        {
          "name": "stdout",
          "output_type": "stream",
          "text": [
            "Enter 1st Number = 200\n"
          ]
        },
        {
          "output_type": "execute_result",
          "data": {
            "text/plain": [
              "'200'"
            ],
            "application/vnd.google.colaboratory.intrinsic+json": {
              "type": "string"
            }
          },
          "metadata": {},
          "execution_count": 13
        }
      ]
    },
    {
      "cell_type": "markdown",
      "source": [
        "\"input\" function always takes input in string data type, So we have to convert it into integer data type to perform arithmetic operations\n"
      ],
      "metadata": {
        "id": "lS15Cht5oRyv"
      }
    },
    {
      "cell_type": "code",
      "source": [
        "num1 = int(num1)\n",
        "num1"
      ],
      "metadata": {
        "colab": {
          "base_uri": "https://localhost:8080/"
        },
        "id": "vQujL9j2n2VY",
        "outputId": "32333ff3-aefa-4b38-af02-eeace140b605"
      },
      "execution_count": null,
      "outputs": [
        {
          "output_type": "execute_result",
          "data": {
            "text/plain": [
              "200"
            ]
          },
          "metadata": {},
          "execution_count": 19
        }
      ]
    },
    {
      "cell_type": "code",
      "source": [
        "num3 = int(input(\"Enter 2nd Number = \"))\n",
        "num3"
      ],
      "metadata": {
        "colab": {
          "base_uri": "https://localhost:8080/"
        },
        "id": "-fECSPiyoePV",
        "outputId": "86da0040-e5d6-4c1d-85fc-f79dbd6edfab"
      },
      "execution_count": null,
      "outputs": [
        {
          "name": "stdout",
          "output_type": "stream",
          "text": [
            "Enter 2nd Number = 5000\n"
          ]
        },
        {
          "output_type": "execute_result",
          "data": {
            "text/plain": [
              "5000"
            ]
          },
          "metadata": {},
          "execution_count": 21
        }
      ]
    },
    {
      "cell_type": "markdown",
      "source": [
        "Addition\n"
      ],
      "metadata": {
        "id": "TVNdPLG0orQf"
      }
    },
    {
      "cell_type": "code",
      "source": [
        "add = num1 + num3\n",
        "add"
      ],
      "metadata": {
        "colab": {
          "base_uri": "https://localhost:8080/"
        },
        "id": "tqDSmy_tolCm",
        "outputId": "369766d0-4f4e-4c9e-a99d-6d988b59a720"
      },
      "execution_count": null,
      "outputs": [
        {
          "output_type": "execute_result",
          "data": {
            "text/plain": [
              "5200"
            ]
          },
          "metadata": {},
          "execution_count": 25
        }
      ]
    },
    {
      "cell_type": "markdown",
      "source": [
        "Subtraction"
      ],
      "metadata": {
        "id": "QrfrJLRqpOBG"
      }
    },
    {
      "cell_type": "code",
      "source": [
        "sub = num3 - num1\n",
        "sub"
      ],
      "metadata": {
        "colab": {
          "base_uri": "https://localhost:8080/"
        },
        "id": "z1pxVkq9o95t",
        "outputId": "7de29718-86d1-45b0-c118-09e9f79dfeb7"
      },
      "execution_count": null,
      "outputs": [
        {
          "output_type": "execute_result",
          "data": {
            "text/plain": [
              "4800"
            ]
          },
          "metadata": {},
          "execution_count": 29
        }
      ]
    },
    {
      "cell_type": "markdown",
      "source": [
        "Multiplication"
      ],
      "metadata": {
        "id": "tme9BSOZpS1k"
      }
    },
    {
      "cell_type": "code",
      "source": [
        "Mul = num3 * num1\n",
        "Mul"
      ],
      "metadata": {
        "colab": {
          "base_uri": "https://localhost:8080/"
        },
        "id": "2W8NYQSfpKY9",
        "outputId": "e9c21e77-d014-4b2b-b569-b48d42c9c92f"
      },
      "execution_count": null,
      "outputs": [
        {
          "output_type": "execute_result",
          "data": {
            "text/plain": [
              "1000000"
            ]
          },
          "metadata": {},
          "execution_count": 31
        }
      ]
    },
    {
      "cell_type": "markdown",
      "source": [
        "Division"
      ],
      "metadata": {
        "id": "YosXnrfMpe38"
      }
    },
    {
      "cell_type": "code",
      "source": [
        "Div = num1 / num3\n",
        "Div"
      ],
      "metadata": {
        "colab": {
          "base_uri": "https://localhost:8080/"
        },
        "id": "b8E_wyZfpVaC",
        "outputId": "1c310775-95c7-4e9f-fc9d-ee4dbf63e179"
      },
      "execution_count": null,
      "outputs": [
        {
          "output_type": "execute_result",
          "data": {
            "text/plain": [
              "0.04"
            ]
          },
          "metadata": {},
          "execution_count": 32
        }
      ]
    },
    {
      "cell_type": "markdown",
      "source": [
        "Mod"
      ],
      "metadata": {
        "id": "OVcyd2BApmtH"
      }
    },
    {
      "cell_type": "code",
      "source": [
        "Mod = num1%num3\n",
        "Mod"
      ],
      "metadata": {
        "colab": {
          "base_uri": "https://localhost:8080/"
        },
        "id": "MLt14nKbpokX",
        "outputId": "6b4f1397-6eb2-4b81-a247-4a955a4a3f9e"
      },
      "execution_count": null,
      "outputs": [
        {
          "output_type": "execute_result",
          "data": {
            "text/plain": [
              "200"
            ]
          },
          "metadata": {},
          "execution_count": 33
        }
      ]
    },
    {
      "cell_type": "markdown",
      "source": [
        "Exponent"
      ],
      "metadata": {
        "id": "eN9tBvhnpwYG"
      }
    },
    {
      "cell_type": "code",
      "source": [
        "num1 = 5\n",
        "num2 = 6\n",
        "exp = num1**num2\n",
        "exp"
      ],
      "metadata": {
        "colab": {
          "base_uri": "https://localhost:8080/"
        },
        "id": "Rl9Aq6mJptTJ",
        "outputId": "cfdab8ed-be64-453b-ee4d-efabe2b117fe"
      },
      "execution_count": null,
      "outputs": [
        {
          "output_type": "execute_result",
          "data": {
            "text/plain": [
              "15625"
            ]
          },
          "metadata": {},
          "execution_count": 38
        }
      ]
    },
    {
      "cell_type": "code",
      "source": [
        "x1 = input('Enter 1st number = ')\n",
        "y1 = input('Enter 2nd number = ')\n",
        "x=int(x1)\n",
        "y=int(y1)\n",
        "add=x+y\n",
        "sub=x-y\n",
        "mul=x*y\n",
        "div=x/y\n",
        "mod=x%y\n",
        "exp=x**y\n",
        "a=x and y\n",
        "b=x or y\n",
        "c=not x\n",
        "#print\n",
        "print(\"The addition of numbers is \",add)\n",
        "print(\"The subtraction of numbers is \", sub)\n",
        "print(\"The multiplication of numbers is \",mul)\n",
        "print(\"The division of numbers is \",div)\n",
        "print(\"The modulus of numbers is \", mod)\n",
        "print(\"The exponent of numbers is \",exp)\n",
        "print(\"The AND of numbers is \",a)\n",
        "print(\"The OR of numbers is \",b)\n",
        "print(\"The NOT of numbers is \",c)"
      ],
      "metadata": {
        "colab": {
          "base_uri": "https://localhost:8080/"
        },
        "id": "4_csaUrbp0kP",
        "outputId": "92c3a433-8bbe-45e6-8033-507125b0c55f"
      },
      "execution_count": null,
      "outputs": [
        {
          "output_type": "stream",
          "name": "stdout",
          "text": [
            "Enter 1st number = 4\n",
            "Enter 2nd number = 3\n",
            "The addition of numbers is  7\n",
            "The subtraction of numbers is  1\n",
            "The multiplication of numbers is  12\n",
            "The division of numbers is  1.3333333333333333\n",
            "The modulus of numbers is  1\n",
            "The exponent of numbers is  64\n",
            "The AND of numbers is  3\n",
            "The OR of numbers is  4\n",
            "The NOT of numbers is  False\n"
          ]
        }
      ]
    },
    {
      "cell_type": "markdown",
      "source": [
        " **Example 03: Take a string (a long Statement) from user**\n",
        "\n",
        "\n",
        "*   Find the length of the string\n",
        "*   Display the first and last character of the string\n",
        "*   Capitalize all alphabets\n",
        "*   Split string in to words (split using ‘ ’)\n",
        "*   count the occurrence of an Alphabet (i.e : a)\n",
        "*   replace the second word of a string with ‘Artificial’\n",
        "*   reverse the complete string\n",
        "\n",
        "\n",
        "\n",
        "\n",
        "\n",
        "\n",
        "\n"
      ],
      "metadata": {
        "id": "OkdOz8Yfqb4M"
      }
    },
    {
      "cell_type": "code",
      "source": [
        "longStr=input(\"Enter a long string : \")"
      ],
      "metadata": {
        "colab": {
          "base_uri": "https://localhost:8080/"
        },
        "id": "dyVLz9fdrGbK",
        "outputId": "1f1c3e0f-f97e-4a5e-efe8-5acb0c203686"
      },
      "execution_count": null,
      "outputs": [
        {
          "name": "stdout",
          "output_type": "stream",
          "text": [
            "Enter a long string : Hi! My name is Muhammad Abul Hassan,I'm final year computer Engineering student\n"
          ]
        }
      ]
    },
    {
      "cell_type": "code",
      "source": [
        "longStr\n"
      ],
      "metadata": {
        "colab": {
          "base_uri": "https://localhost:8080/",
          "height": 35
        },
        "id": "hprnWVV9t-e7",
        "outputId": "4b7e9f3d-2698-415b-86e5-acd6ff380c9d"
      },
      "execution_count": null,
      "outputs": [
        {
          "output_type": "execute_result",
          "data": {
            "text/plain": [
              "\"Hi! My name is Muhammad Abul Hassan,I'm final year computer Engineering student\""
            ],
            "application/vnd.google.colaboratory.intrinsic+json": {
              "type": "string"
            }
          },
          "metadata": {},
          "execution_count": 45
        }
      ]
    },
    {
      "cell_type": "code",
      "source": [
        "print(f\"The length of given string is {len(longStr)} includig spaces.\")"
      ],
      "metadata": {
        "colab": {
          "base_uri": "https://localhost:8080/"
        },
        "id": "GsA5VVzWubTC",
        "outputId": "7e5479c5-91a3-42ed-9940-45e68b7792be"
      },
      "execution_count": null,
      "outputs": [
        {
          "output_type": "stream",
          "name": "stdout",
          "text": [
            "The length of given string is 79 includig spaces.\n"
          ]
        }
      ]
    },
    {
      "cell_type": "code",
      "source": [
        "print(\"The first character of the given string is \", longStr[0])"
      ],
      "metadata": {
        "colab": {
          "base_uri": "https://localhost:8080/"
        },
        "id": "2ROKBChgudo2",
        "outputId": "6ecf6798-434b-4e4e-8062-0bc94d77f8b4"
      },
      "execution_count": null,
      "outputs": [
        {
          "output_type": "stream",
          "name": "stdout",
          "text": [
            "The first character of the given string is  H\n"
          ]
        }
      ]
    },
    {
      "cell_type": "code",
      "source": [
        "print(f\"The last character of the given string is {longStr[-1]}\")"
      ],
      "metadata": {
        "colab": {
          "base_uri": "https://localhost:8080/"
        },
        "id": "yJ3GYy3suhX0",
        "outputId": "b2a1729b-5839-40ee-cef3-d63786598f96"
      },
      "execution_count": null,
      "outputs": [
        {
          "output_type": "stream",
          "name": "stdout",
          "text": [
            "The last character of the given string is t\n"
          ]
        }
      ]
    },
    {
      "cell_type": "code",
      "source": [
        "print(f\"The given string in upper case : \\n {longStr.upper()}\")"
      ],
      "metadata": {
        "colab": {
          "base_uri": "https://localhost:8080/"
        },
        "id": "eMY1Y9Ntux0C",
        "outputId": "c18c8cb7-a0ab-4a24-c566-c69084bfb9e3"
      },
      "execution_count": null,
      "outputs": [
        {
          "output_type": "stream",
          "name": "stdout",
          "text": [
            "The given string in upper case : \n",
            " HI! MY NAME IS MUHAMMAD ABUL HASSAN,I'M FINAL YEAR COMPUTER ENGINEERING STUDENT\n"
          ]
        }
      ]
    },
    {
      "cell_type": "code",
      "source": [
        "print(f\"The splited string : \\n {longStr.split(' ')}\")"
      ],
      "metadata": {
        "colab": {
          "base_uri": "https://localhost:8080/"
        },
        "id": "BnSd-_fFu2OL",
        "outputId": "5a72bf41-7ce5-4a75-d881-fb8ae3749382"
      },
      "execution_count": null,
      "outputs": [
        {
          "output_type": "stream",
          "name": "stdout",
          "text": [
            "The splited string : \n",
            " ['Hi!', 'My', 'name', 'is', 'Muhammad', 'Abul', \"Hassan,I'm\", 'final', 'year', 'computer', 'Engineering', 'student']\n"
          ]
        }
      ]
    },
    {
      "cell_type": "code",
      "source": [
        "print(f\"In the given string 'a' has occured : {longStr.count('a')} \")"
      ],
      "metadata": {
        "colab": {
          "base_uri": "https://localhost:8080/"
        },
        "id": "FPDHLvz3u5f3",
        "outputId": "2431ccdd-4db1-4de1-8b7a-3a732010ddae"
      },
      "execution_count": null,
      "outputs": [
        {
          "output_type": "stream",
          "name": "stdout",
          "text": [
            "In the given string 'a' has occured : 7 \n"
          ]
        }
      ]
    },
    {
      "cell_type": "code",
      "source": [
        "print(f\"The reversed string is : {longStr[::-1]}\")"
      ],
      "metadata": {
        "colab": {
          "base_uri": "https://localhost:8080/"
        },
        "id": "daNGxXVPu-01",
        "outputId": "c671b731-6ba7-4e35-f602-014652f1d3c7"
      },
      "execution_count": null,
      "outputs": [
        {
          "output_type": "stream",
          "name": "stdout",
          "text": [
            "The reversed string is : tneduts gnireenignE retupmoc raey lanif m'I,nassaH lubA dammahuM si eman yM !iH\n"
          ]
        }
      ]
    },
    {
      "cell_type": "markdown",
      "source": [
        "***Example 04:***\n",
        "\n",
        "\n",
        "*   Take three integer input from user in a single line and find the average\n"
      ],
      "metadata": {
        "id": "jP5_6vZDvaOI"
      }
    },
    {
      "cell_type": "code",
      "source": [
        "x, y, z=input('Enter three numbers with spaces to distinguish them = ').split(' ')\n",
        "x1 = int(x)\n",
        "x2 = int(y)\n",
        "x3 = int(z)\n",
        "\n",
        "avg=(x1+x2+x3)/3\n",
        "print(\"The average of the numbers entered is = \", avg)"
      ],
      "metadata": {
        "colab": {
          "base_uri": "https://localhost:8080/"
        },
        "id": "2q2QhAA8vGgu",
        "outputId": "f6407b24-f2e0-4621-e203-eab1c8918710"
      },
      "execution_count": null,
      "outputs": [
        {
          "output_type": "stream",
          "name": "stdout",
          "text": [
            "Enter three numbers with spaces to distinguish them = 2 3 5\n",
            "The average of the numbers entered is =  3.3333333333333335\n"
          ]
        }
      ]
    },
    {
      "cell_type": "markdown",
      "source": [
        " **Example 05:**\n",
        "\n",
        "\n",
        "*   Create a list of 10 values\n",
        "*   Display the elements of a list\n",
        "*   Update the value of 3rd index\n",
        "*   Reverse the list\n",
        "*   count the occurrence of an Alphabet (i.e : a)\n",
        "*   Add 2 more elements in 2nd index and print list\n",
        "*   Pop element of 1 index and display list\n",
        "\n",
        "\n",
        "\n",
        "\n",
        "\n",
        "\n",
        "\n"
      ],
      "metadata": {
        "id": "oQDYb630wYqb"
      }
    },
    {
      "cell_type": "code",
      "source": [
        "list=[1,2, 'A', 'Ali',3,4, 'U', 'Askari', 'Abbas', 'Haider']\n",
        "list"
      ],
      "metadata": {
        "colab": {
          "base_uri": "https://localhost:8080/"
        },
        "id": "0eVe0ZNAvyQR",
        "outputId": "868f3796-9bf6-4305-95fb-1c801fcf40b5"
      },
      "execution_count": null,
      "outputs": [
        {
          "output_type": "execute_result",
          "data": {
            "text/plain": [
              "[1, 2, 'A', 'Ali', 3, 4, 'U', 'Askari', 'Abbas', 'Haider']"
            ]
          },
          "metadata": {},
          "execution_count": 63
        }
      ]
    },
    {
      "cell_type": "code",
      "source": [
        "list[2]='B'\n",
        "\n",
        "print(\"The updated list with element of 3rd index = \",list)"
      ],
      "metadata": {
        "colab": {
          "base_uri": "https://localhost:8080/"
        },
        "id": "-0wd_cWRwugi",
        "outputId": "014af4dd-c9a5-4683-9497-d6a9d687a1dc"
      },
      "execution_count": null,
      "outputs": [
        {
          "output_type": "stream",
          "name": "stdout",
          "text": [
            "The updated list with element of 3rd index =  [1, 2, 'B', 'Ali', 3, 4, 'U', 'Askari', 'Abbas', 'Haider']\n"
          ]
        }
      ]
    },
    {
      "cell_type": "code",
      "source": [
        "print(\"The reversed list is :\",list[::-1])"
      ],
      "metadata": {
        "colab": {
          "base_uri": "https://localhost:8080/"
        },
        "id": "e7fCXDEZxJ1r",
        "outputId": "2abaef66-38e7-430a-82f5-11650f6d9240"
      },
      "execution_count": null,
      "outputs": [
        {
          "output_type": "stream",
          "name": "stdout",
          "text": [
            "The reversed list is : ['Haider', 'Abbas', 'Askari', 'U', 4, 3, 'Ali', 'B', 2, 1]\n"
          ]
        }
      ]
    },
    {
      "cell_type": "code",
      "source": [
        "list.insert(1,45)\n",
        "\n",
        "list.insert(1,66)\n",
        "\n",
        "print(\"The list after inserting elements of 2nd index is :\",list)"
      ],
      "metadata": {
        "colab": {
          "base_uri": "https://localhost:8080/"
        },
        "id": "gpeiyafrxNSc",
        "outputId": "8fb9f3a2-8704-4b2b-8cc4-e0dae0360c99"
      },
      "execution_count": null,
      "outputs": [
        {
          "output_type": "stream",
          "name": "stdout",
          "text": [
            "The list after inserting elements of 2nd index is : [1, 66, 45, 66, 45, 2, 'B', 'Ali', 3, 4, 'U', 'Askari', 'Abbas', 'Haider']\n"
          ]
        }
      ]
    },
    {
      "cell_type": "code",
      "source": [
        "list.pop(0)\n",
        "\n",
        "print(\"The list after popping element of 1st index is :\", list)"
      ],
      "metadata": {
        "colab": {
          "base_uri": "https://localhost:8080/"
        },
        "id": "rL2vOHkHxQDA",
        "outputId": "9a4ff7b3-6829-491f-f785-fa20f2bee46d"
      },
      "execution_count": null,
      "outputs": [
        {
          "output_type": "stream",
          "name": "stdout",
          "text": [
            "The list after popping element of 1st index is : [66, 45, 66, 45, 2, 'B', 'Ali', 3, 4, 'U', 'Askari', 'Abbas', 'Haider']\n"
          ]
        }
      ]
    },
    {
      "cell_type": "markdown",
      "source": [
        "**Ended**"
      ],
      "metadata": {
        "id": "7RImogeTxUI1"
      }
    }
  ]
}