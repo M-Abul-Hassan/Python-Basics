{
 "cells": [
  {
   "cell_type": "markdown",
   "id": "70c3c277",
   "metadata": {},
   "source": [
    "# <center> Hassan Lab 02 practice </center>"
   ]
  },
  {
   "cell_type": "code",
   "execution_count": 1,
   "id": "fc9db71c",
   "metadata": {},
   "outputs": [
    {
     "name": "stdout",
     "output_type": "stream",
     "text": [
      " The 2D array is : \n",
      " [[1 2 3 4 5]\n",
      " [2 3 4 5 6]]\n",
      "The type of array using type: <class 'numpy.ndarray'>\n",
      "The type of array using dtype: int32\n",
      "The dimension of an array: (2, 5)\n",
      "The size of an array: 10\n"
     ]
    }
   ],
   "source": [
    "import numpy as np\n",
    "A = np.array(([1,2,3,4,5], [2,3,4,5,6]))\n",
    "print(f\" The 2D array is : \\n {A}\")\n",
    "print(f\"The type of array using type: {type(A)}\")\n",
    "print(f\"The type of array using dtype: {A.dtype}\") # no () with dtype because it is a\n",
    "print(f\"The dimension of an array: {A.shape}\")\n",
    "print(f\"The size of an array: {A.size}\") "
   ]
  },
  {
   "cell_type": "code",
   "execution_count": 18,
   "id": "c185a888",
   "metadata": {},
   "outputs": [
    {
     "name": "stdout",
     "output_type": "stream",
     "text": [
      "The is the 2D array [[1 2 3 4]\n",
      " [5 6 7 8]]\n",
      "Print the type of 2D array <class 'numpy.ndarray'>\n",
      "Print the dtype of 2D array int32\n",
      "Print the size of 2D array 8\n",
      "Print the dtype of 2D array (2, 4)\n"
     ]
    }
   ],
   "source": [
    "import numpy as np\n",
    "C = np.array(([1,2,3,4],[5,6,7,8]))\n",
    "print (f\"The is the 2D array {C}\")\n",
    "print (f\"Print the type of 2D array {type(C)}\")\n",
    "print (f\"Print the dtype of 2D array {C.dtype}\")\n",
    "print (f\"Print the size of 2D array {C.size}\")\n",
    "print (f\"Print the dtype of 2D array {C.shape}\")\n"
   ]
  },
  {
   "cell_type": "code",
   "execution_count": 42,
   "id": "218e5908",
   "metadata": {},
   "outputs": [
    {
     "name": "stdout",
     "output_type": "stream",
     "text": [
      " This is 4x4 matrix [[1 2 3 4]\n",
      " [1 2 3 4]\n",
      " [1 2 3 4]\n",
      " [1 2 3 4]]\n",
      " The 8x2 matrix: \n",
      " [[1 2]\n",
      " [3 4]\n",
      " [1 2]\n",
      " [3 4]\n",
      " [1 2]\n",
      " [3 4]\n",
      " [1 2]\n",
      " [3 4]]\n"
     ]
    }
   ],
   "source": [
    "import numpy as np\n",
    "r1 = [1,2,3,4]\n",
    "r2 = [1,2,3,4]\n",
    "r3 = [1,2,3,4]\n",
    "r4 = [1,2,3,4]\n",
    "M  = np.array((r1,r2,r3,r4))\n",
    "print(f\" This is 4x4 matrix {M}\")\n",
    "print(f\" The 8x2 matrix: \\n {M.reshape(8,2)}\")"
   ]
  },
  {
   "cell_type": "code",
   "execution_count": 43,
   "id": "80afb471",
   "metadata": {},
   "outputs": [
    {
     "ename": "SyntaxError",
     "evalue": "unterminated string literal (detected at line 3) (2501632543.py, line 3)",
     "output_type": "error",
     "traceback": [
      "\u001b[1;36m  Cell \u001b[1;32mIn[43], line 3\u001b[1;36m\u001b[0m\n\u001b[1;33m    print(f\"Print the dtype of 2D array /n {B})\u001b[0m\n\u001b[1;37m          ^\u001b[0m\n\u001b[1;31mSyntaxError\u001b[0m\u001b[1;31m:\u001b[0m unterminated string literal (detected at line 3)\n"
     ]
    }
   ],
   "source": [
    "import numpy as np\n",
    "B = np.array(([1,2,3,4,5],[1,2,3,4,5],[1,2,3,4,5],[1,2,3,4,5]))\n",
    "print(f\"Print the dtype of 2D array /n {B})\n",
    "print (f\"Print the dtype of 2D array {B.dtype}\")\n",
    "print (f\"Print the type of 2D array {type(B)}\")\n",
    "print (f\"Print the shape of 2D array {B.shape}\")\n"
   ]
  },
  {
   "cell_type": "code",
   "execution_count": 44,
   "id": "4f2a825e",
   "metadata": {},
   "outputs": [
    {
     "name": "stdout",
     "output_type": "stream",
     "text": [
      " The 4x4 Matrix is : \n",
      " [[1 2 3 4]\n",
      " [3 6 3 4]\n",
      " [1 2 9 4]\n",
      " [1 4 5 4]]\n",
      " The 8x2 matrix: \n",
      " [[1 2]\n",
      " [3 4]\n",
      " [3 6]\n",
      " [3 4]\n",
      " [1 2]\n",
      " [9 4]\n",
      " [1 4]\n",
      " [5 4]]\n"
     ]
    }
   ],
   "source": [
    "import numpy as np\n",
    "r1 = [1,2,3,4]\n",
    "r2 = [3,6,3,4]\n",
    "r3 = [1,2,9,4]\n",
    "r4 = [1,4,5,4]\n",
    "A = np.array((r1,r2,r3,r4))\n",
    "print(f\" The 4x4 Matrix is : \\n {A}\")\n",
    "print(f\" The 8x2 matrix: \\n {A.reshape(8,2)}\")\n"
   ]
  },
  {
   "cell_type": "code",
   "execution_count": 56,
   "id": "e1806fe5",
   "metadata": {},
   "outputs": [
    {
     "name": "stdout",
     "output_type": "stream",
     "text": [
      " The 4x4 Matrix is : \n",
      " [[1 2 3 4]\n",
      " [3 6 3 4]\n",
      " [1 2 9 4]\n",
      " [1 4 5 4]]\n",
      " The 8x2 matrix: \n",
      " [[1 2]\n",
      " [3 4]\n",
      " [3 6]\n",
      " [3 4]\n",
      " [1 2]\n",
      " [9 4]\n",
      " [1 4]\n",
      " [5 4]]\n",
      " The 1D array from above matrix using ravel: \n",
      "[1 2 3 4 3 6 3 4 1 2 9 4 1 4 5 4]\n"
     ]
    }
   ],
   "source": [
    "import numpy as np\n",
    "r1 = [1,2,3,4]\n",
    "r2 = [3,6,3,4]\n",
    "r3 = [1,2,9,4]\n",
    "r4 = [1,4,5,4]\n",
    "A = np.array((r1,r2,r3,r4))\n",
    "print(f\" The 4x4 Matrix is : \\n {A}\")\n",
    "print(f\" The 8x2 matrix: \\n {A.reshape(8,2)}\")\n",
    "print(f\" The 1D array from above matrix using ravel: \\n{A.ravel()}\")\n"
   ]
  },
  {
   "cell_type": "code",
   "execution_count": 62,
   "id": "7bddc8c1",
   "metadata": {},
   "outputs": [
    {
     "name": "stdout",
     "output_type": "stream",
     "text": [
      "[1 2 3 4 5 6 7 8 9]\n"
     ]
    }
   ],
   "source": [
    "import numpy as np\n",
    "d =  np.arange(1,10)\n",
    "print(d)"
   ]
  },
  {
   "cell_type": "code",
   "execution_count": 66,
   "id": "434c5c1d",
   "metadata": {},
   "outputs": [
    {
     "name": "stdout",
     "output_type": "stream",
     "text": [
      " The array is : \n",
      " [ 1  2  3  4  5  6  7  8  9 10 11 12 13 14 15 16 17 18 19 20 21 22 23 24\n",
      " 25 26 27 28 29 30 31 32 33 34 35 36 37 38 39 40 41 42 43 44 45 46 47 48\n",
      " 49 50 51 52 53 54 55 56 57 58 59 60 61 62 63 64 65 66 67 68 69 70 71 72\n",
      " 73 74 75 76 77 78 79 80 81 82 83 84 85 86 87 88 89 90 91 92 93 94 95 96\n",
      " 97 98 99]\n"
     ]
    }
   ],
   "source": [
    "import numpy as np\n",
    "A = np.arange(1,100)\n",
    "print(f\" The array is : \\n {A}\")"
   ]
  },
  {
   "cell_type": "code",
   "execution_count": 67,
   "id": "738beb1f",
   "metadata": {},
   "outputs": [
    {
     "name": "stdout",
     "output_type": "stream",
     "text": [
      " The array is : \n",
      " [[0. 0. 0. 0. 0.]\n",
      " [0. 0. 0. 0. 0.]\n",
      " [0. 0. 0. 0. 0.]\n",
      " [0. 0. 0. 0. 0.]\n",
      " [0. 0. 0. 0. 0.]]\n"
     ]
    }
   ],
   "source": [
    "import numpy as np\n",
    "A = np.zeros([5,5])\n",
    "print(f\" The array is : \\n {A}\")"
   ]
  },
  {
   "cell_type": "code",
   "execution_count": 69,
   "id": "6e4a32af",
   "metadata": {},
   "outputs": [
    {
     "name": "stdout",
     "output_type": "stream",
     "text": [
      " The array is : \n",
      " [ 1  6 11 16 21 26 31 36 41 46 51 56 61 66 71 76 81 86 91 96]\n"
     ]
    }
   ],
   "source": [
    "# Stepsize is 5\n",
    "import numpy as np\n",
    "A = np.arange(1,100,5)\n",
    "print(f\" The array is : \\n {A}\")"
   ]
  },
  {
   "cell_type": "code",
   "execution_count": 84,
   "id": "586e1b03",
   "metadata": {},
   "outputs": [
    {
     "name": "stdout",
     "output_type": "stream",
     "text": [
      " The array is : \n",
      " [2.         2.03030303 2.06060606 2.09090909 2.12121212 2.15151515\n",
      " 2.18181818 2.21212121 2.24242424 2.27272727 2.3030303  2.33333333\n",
      " 2.36363636 2.39393939 2.42424242 2.45454545 2.48484848 2.51515152\n",
      " 2.54545455 2.57575758 2.60606061 2.63636364 2.66666667 2.6969697\n",
      " 2.72727273 2.75757576 2.78787879 2.81818182 2.84848485 2.87878788\n",
      " 2.90909091 2.93939394 2.96969697 3.         3.03030303 3.06060606\n",
      " 3.09090909 3.12121212 3.15151515 3.18181818 3.21212121 3.24242424\n",
      " 3.27272727 3.3030303  3.33333333 3.36363636 3.39393939 3.42424242\n",
      " 3.45454545 3.48484848 3.51515152 3.54545455 3.57575758 3.60606061\n",
      " 3.63636364 3.66666667 3.6969697  3.72727273 3.75757576 3.78787879\n",
      " 3.81818182 3.84848485 3.87878788 3.90909091 3.93939394 3.96969697\n",
      " 4.         4.03030303 4.06060606 4.09090909 4.12121212 4.15151515\n",
      " 4.18181818 4.21212121 4.24242424 4.27272727 4.3030303  4.33333333\n",
      " 4.36363636 4.39393939 4.42424242 4.45454545 4.48484848 4.51515152\n",
      " 4.54545455 4.57575758 4.60606061 4.63636364 4.66666667 4.6969697\n",
      " 4.72727273 4.75757576 4.78787879 4.81818182 4.84848485 4.87878788\n",
      " 4.90909091 4.93939394 4.96969697 5.        ]\n"
     ]
    }
   ],
   "source": [
    "# Ranging of array \n",
    "import numpy as np\n",
    "A = np.linspace(2,5,100)\n",
    "print(f\" The array is : \\n {A}\")"
   ]
  },
  {
   "cell_type": "code",
   "execution_count": 89,
   "id": "b200b483",
   "metadata": {},
   "outputs": [
    {
     "name": "stdout",
     "output_type": "stream",
     "text": [
      " The array is : \n",
      " [[1. 0. 0. 0. 0.]\n",
      " [0. 1. 0. 0. 0.]\n",
      " [0. 0. 1. 0. 0.]\n",
      " [0. 0. 0. 1. 0.]\n",
      " [0. 0. 0. 0. 1.]]\n"
     ]
    }
   ],
   "source": [
    "import numpy as np\n",
    "A = np.identity(5)\n",
    "print(f\" The array is : \\n {A}\")\n"
   ]
  },
  {
   "cell_type": "code",
   "execution_count": 90,
   "id": "d2517412",
   "metadata": {},
   "outputs": [
    {
     "name": "stdout",
     "output_type": "stream",
     "text": [
      " The Matrix is : \n",
      " [[1 2 3 4]\n",
      " [3 6 3 4]\n",
      " [1 2 9 4]\n",
      " [1 4 5 4]]\n",
      " The row wise sum is : [10 16 16 14]\n",
      " The column wise sum is : [ 6 14 20 16]\n"
     ]
    }
   ],
   "source": [
    "import numpy as np\n",
    "r1 = [1,2,3,4]\n",
    "r2 = [3,6,3,4]\n",
    "r3 = [1,2,9,4]\n",
    "r4 = [1,4,5,4]\n",
    "A = np.array((r1,r2,r3,r4))\n",
    "print(f\" The Matrix is : \\n {A}\")\n",
    "print(f\" The row wise sum is : {A.sum(axis=1)}\")\n",
    "print(f\" The column wise sum is : {A.sum(axis=0)}\")"
   ]
  },
  {
   "cell_type": "code",
   "execution_count": 92,
   "id": "1ae47ff4",
   "metadata": {},
   "outputs": [
    {
     "name": "stdout",
     "output_type": "stream",
     "text": [
      " The Matrix is : \n",
      " [[1 2 3 4]\n",
      " [3 6 3 4]\n",
      " [1 2 9 4]\n",
      " [1 4 5 4]]\n",
      " The row wise sum is : [10 16 16 14]\n",
      " The column wise sum is : [ 6 14 20 16]\n"
     ]
    }
   ],
   "source": [
    "import numpy as np\n",
    "r1 = [1,2,3,4]\n",
    "r2 = [3,6,3,4]\n",
    "r3 = [1,2,9,4]\n",
    "r4 = [1,4,5,4]\n",
    "A = np.array((r1,r2,r3,r4))\n",
    "print(f\" The Matrix is : \\n {A}\")\n",
    "print(f\" The row wise sum is : {A.sum(axis=1)}\")\n",
    "print(f\" The column wise sum is : {A.sum(axis=0)}\")"
   ]
  },
  {
   "cell_type": "code",
   "execution_count": 93,
   "id": "de57b755",
   "metadata": {},
   "outputs": [
    {
     "name": "stdout",
     "output_type": "stream",
     "text": [
      " The Matrix is : \n",
      " [[1 2 3 4]\n",
      " [3 6 3 4]\n",
      " [1 2 9 4]\n",
      " [1 4 5 4]]\n",
      " The transpose is : \n",
      " [[1 3 1 1]\n",
      " [2 6 2 4]\n",
      " [3 3 9 5]\n",
      " [4 4 4 4]]\n"
     ]
    }
   ],
   "source": [
    "import numpy as np\n",
    "r1 = [1,2,3,4]\n",
    "r2 = [3,6,3,4]\n",
    "r3 = [1,2,9,4]\n",
    "r4 = [1,4,5,4]\n",
    "A = np.array((r1,r2,r3,r4))\n",
    "print(f\" The Matrix is : \\n {A}\")\n",
    "print(f\" The transpose is : \\n {A.T}\")"
   ]
  },
  {
   "cell_type": "code",
   "execution_count": 94,
   "id": "338e8ca7",
   "metadata": {},
   "outputs": [
    {
     "name": "stdout",
     "output_type": "stream",
     "text": [
      " The 4x4 Matrix is : \n",
      " [[1 2 3 4]\n",
      " [3 6 3 4]\n",
      " [1 2 9 4]\n",
      " [1 4 5 4]]\n",
      " The 8x2 matrix: \n",
      " [[1 2]\n",
      " [3 4]\n",
      " [3 6]\n",
      " [3 4]\n",
      " [1 2]\n",
      " [9 4]\n",
      " [1 4]\n",
      " [5 4]]\n"
     ]
    }
   ],
   "source": [
    "import numpy as np\n",
    "r1 = [1,2,3,4]\n",
    "r2 = [3,6,3,4]\n",
    "r3 = [1,2,9,4]\n",
    "r4 = [1,4,5,4]\n",
    "A = np.array((r1,r2,r3,r4))\n",
    "print(f\" The 4x4 Matrix is : \\n {A}\")\n",
    "print(f\" The 8x2 matrix: \\n {A.reshape(8,2)}\")\n"
   ]
  },
  {
   "cell_type": "code",
   "execution_count": 95,
   "id": "8d82c68a",
   "metadata": {},
   "outputs": [
    {
     "name": "stdout",
     "output_type": "stream",
     "text": [
      " The 4x4 Matrix is : \n",
      " [[1 2 3 4]\n",
      " [3 6 3 4]\n",
      " [1 2 9 4]\n",
      " [1 4 5 4]]\n",
      " The 1D array from above matrix using ravel: \n",
      " [1 2 3 4 3 6 3 4 1 2 9 4 1 4 5 4]\n"
     ]
    }
   ],
   "source": [
    "import numpy as np\n",
    "r1 = [1,2,3,4]\n",
    "r2 = [3,6,3,4]\n",
    "r3 = [1,2,9,4]\n",
    "r4 = [1,4,5,4]\n",
    "A = np.array((r1,r2,r3,r4))\n",
    "print(f\" The 4x4 Matrix is : \\n {A}\")\n",
    "print(f\" The 1D array from above matrix using ravel: \\n {A.ravel()}\")\n"
   ]
  },
  {
   "cell_type": "code",
   "execution_count": 99,
   "id": "159a198e",
   "metadata": {},
   "outputs": [
    {
     "name": "stdout",
     "output_type": "stream",
     "text": [
      "The original array: [  1 160  31 400]\n",
      "The index of maximum value in array is: 3\n",
      "The index of minimum value in array is: 0\n",
      "Sorted Indexes: [0 2 1 3]\n"
     ]
    }
   ],
   "source": [
    "import numpy as np\n",
    "a = [1, 160, 31, 400]\n",
    "A = np.array(a)\n",
    "print(f\"The original array: {A}\")\n",
    "print(f\"The index of maximum value in array is: {A.argmax()}\")\n",
    "print(f\"The index of minimum value in array is: {A.argmin()}\")\n",
    "print(f\"Sorted Indexes: {A.argsort()}\")"
   ]
  },
  {
   "cell_type": "code",
   "execution_count": 102,
   "id": "86cfac2f",
   "metadata": {},
   "outputs": [
    {
     "data": {
      "text/plain": [
       "array([[2, 2],\n",
       "       [2, 2]])"
      ]
     },
     "execution_count": 102,
     "metadata": {},
     "output_type": "execute_result"
    }
   ],
   "source": [
    "import numpy as np\n",
    "f1=np.full((2,2),2)\n",
    "f1\n",
    "\n"
   ]
  },
  {
   "cell_type": "code",
   "execution_count": 103,
   "id": "99bb4d7e",
   "metadata": {},
   "outputs": [
    {
     "data": {
      "text/plain": [
       "array([[5, 5],\n",
       "       [5, 5]])"
      ]
     },
     "execution_count": 103,
     "metadata": {},
     "output_type": "execute_result"
    }
   ],
   "source": [
    "import numpy as np\n",
    "f2=np.full((2,2),5)\n",
    "f2\n",
    "\n"
   ]
  },
  {
   "cell_type": "code",
   "execution_count": 104,
   "id": "5825f159",
   "metadata": {},
   "outputs": [
    {
     "data": {
      "text/plain": [
       "array([[2, 2],\n",
       "       [2, 2],\n",
       "       [5, 5],\n",
       "       [5, 5]])"
      ]
     },
     "execution_count": 104,
     "metadata": {},
     "output_type": "execute_result"
    }
   ],
   "source": [
    "a = np.vstack([f1, f2])\n",
    "a\n",
    "\n"
   ]
  },
  {
   "cell_type": "code",
   "execution_count": 105,
   "id": "618fe93c",
   "metadata": {},
   "outputs": [
    {
     "data": {
      "text/plain": [
       "array([[2, 2, 5, 5],\n",
       "       [2, 2, 5, 5]])"
      ]
     },
     "execution_count": 105,
     "metadata": {},
     "output_type": "execute_result"
    }
   ],
   "source": [
    "b = np.hstack([f1, f2])\n",
    "b\n"
   ]
  },
  {
   "cell_type": "code",
   "execution_count": 106,
   "id": "4b0d76b7",
   "metadata": {},
   "outputs": [
    {
     "data": {
      "text/plain": [
       "array([[2, 2, 5, 5],\n",
       "       [2, 2, 5, 5]])"
      ]
     },
     "execution_count": 106,
     "metadata": {},
     "output_type": "execute_result"
    }
   ],
   "source": [
    "a = np.column_stack([f1, f2])\n",
    "a"
   ]
  },
  {
   "cell_type": "code",
   "execution_count": 107,
   "id": "a5d33ebf",
   "metadata": {},
   "outputs": [
    {
     "data": {
      "text/plain": [
       "array([[5, 5, 5],\n",
       "       [5, 5, 5]])"
      ]
     },
     "execution_count": 107,
     "metadata": {},
     "output_type": "execute_result"
    }
   ],
   "source": [
    "import numpy as np\n",
    "a = np.full((2,3), 5)\n",
    "a\n"
   ]
  },
  {
   "cell_type": "code",
   "execution_count": 108,
   "id": "848a5e00",
   "metadata": {},
   "outputs": [],
   "source": [
    "np.save(\"untitled.npy\", a)"
   ]
  },
  {
   "cell_type": "code",
   "execution_count": 109,
   "id": "c6a6d5d9",
   "metadata": {},
   "outputs": [
    {
     "data": {
      "text/plain": [
       "array([[5, 5, 5],\n",
       "       [5, 5, 5]])"
      ]
     },
     "execution_count": 109,
     "metadata": {},
     "output_type": "execute_result"
    }
   ],
   "source": [
    "savedMatrix = np.load('untitled.npy')\n",
    "savedMatrix"
   ]
  },
  {
   "cell_type": "code",
   "execution_count": 111,
   "id": "7b633f4b",
   "metadata": {},
   "outputs": [
    {
     "name": "stdout",
     "output_type": "stream",
     "text": [
      "\n",
      "f1 = \n",
      " [[5 5]\n",
      " [5 5]]\n",
      "\n",
      "f2 = \n",
      " [[3 3]\n",
      " [3 3]]\n",
      "point to point multiplication =  [[15 15]\n",
      " [15 15]]\n",
      "point to point multiplication =  [[30 30]\n",
      " [30 30]]\n"
     ]
    }
   ],
   "source": [
    "import numpy as np\n",
    "f1=np.full((2,2),5)\n",
    "print(\"\\nf1 = \\n\",f1)\n",
    "f2=np.full((2,2), 3)\n",
    "print(\"\\nf2 = \\n\", f2)\n",
    "print(\"point to point multiplication = \",f1*f2)\n",
    "print(\"point to point multiplication = \", np.dot(f1,f2))"
   ]
  },
  {
   "cell_type": "markdown",
   "id": "76d7bb6a",
   "metadata": {},
   "source": [
    "# 02. Pandas\n",
    "### Example 01\n",
    "- Create a Dictionary and convert them into data frames also check its datatype"
   ]
  },
  {
   "cell_type": "code",
   "execution_count": 114,
   "id": "2d12c180",
   "metadata": {},
   "outputs": [
    {
     "ename": "SyntaxError",
     "evalue": "closing parenthesis '}' does not match opening parenthesis '[' on line 1 (2890721477.py, line 3)",
     "output_type": "error",
     "traceback": [
      "\u001b[1;36m  Cell \u001b[1;32mIn[114], line 3\u001b[1;36m\u001b[0m\n\u001b[1;33m    \"Semester\" : [7,7,7,7,6,6,6,5,8,8]}\u001b[0m\n\u001b[1;37m                                      ^\u001b[0m\n\u001b[1;31mSyntaxError\u001b[0m\u001b[1;31m:\u001b[0m closing parenthesis '}' does not match opening parenthesis '[' on line 1\n"
     ]
    }
   ],
   "source": [
    "StuDict={\"Name\": [\"Aqsa\",\"Esha\", \"Ayesha\", \"Ayra\", \"Arfa\", \"Afsa\", \"Abdul\", \"Saadia\",\"ID\": [\"SID-1\",\"SID-2\", \"SID-3\", \"SID-4\", \"SID-5\",\"SID-6\", \"SID-7\", \"SID-8\", \"SID-9\"],\n",
    "\"Rol1_no\": [1,2,3,4,5,6,7,8,9,10],\n",
    "\"Semester\" : [7,7,7,7,6,6,6,5,8,8]}\n",
    "StuDict"
   ]
  },
  {
   "cell_type": "code",
   "execution_count": null,
   "id": "51b34fa5",
   "metadata": {},
   "outputs": [],
   "source": []
  }
 ],
 "metadata": {
  "kernelspec": {
   "display_name": "Python 3 (ipykernel)",
   "language": "python",
   "name": "python3"
  },
  "language_info": {
   "codemirror_mode": {
    "name": "ipython",
    "version": 3
   },
   "file_extension": ".py",
   "mimetype": "text/x-python",
   "name": "python",
   "nbconvert_exporter": "python",
   "pygments_lexer": "ipython3",
   "version": "3.11.5"
  }
 },
 "nbformat": 4,
 "nbformat_minor": 5
}
