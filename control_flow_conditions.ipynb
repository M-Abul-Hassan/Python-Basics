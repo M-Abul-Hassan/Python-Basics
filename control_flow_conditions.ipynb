{
 "cells": [
  {
   "cell_type": "markdown",
   "metadata": {},
   "source": [
    "# Control flow statements in pyhon\n",
    "### (Conditional statement if else,For loop, while loop,break,continue,pause)\n",
    "\n",
    " "
   ]
  },
  {
   "cell_type": "code",
   "execution_count": null,
   "metadata": {},
   "outputs": [],
   "source": [
    "# For loop\n",
    "for i in range (5):\n",
    "\n",
    "    print(f\"This my program\",i)\n",
    "    \n",
    "    print(f\"This is Hassan's program\",i)"
   ]
  },
  {
   "cell_type": "code",
   "execution_count": 22,
   "metadata": {},
   "outputs": [
    {
     "name": "stdout",
     "output_type": "stream",
     "text": [
      "Muhammad Abul Hassan 0\n",
      "Muhammad Abul Hassan 1\n",
      "Muhammad Abul Hassan 2\n",
      "Muhammad Abul Hassan 3\n",
      "Muhammad Abul Hassan 4\n",
      "Muhammad Abul Hassan 5\n",
      "Muhammad Abul Hassan 6\n",
      "Muhammad Abul Hassan 7\n",
      "Muhammad Abul Hassan 8\n",
      "Muhammad Abul Hassan 9\n"
     ]
    }
   ],
   "source": [
    "for a in range(10):\n",
    "    print(\"Muhammad Abul Hassan\",a)"
   ]
  },
  {
   "cell_type": "code",
   "execution_count": 27,
   "metadata": {},
   "outputs": [
    {
     "name": "stdout",
     "output_type": "stream",
     "text": [
      "The count is: 10\n",
      "The count is: 110\n",
      "The count is: 210\n",
      "The count is: 310\n",
      "The count is: 410\n",
      "The count is: 510\n",
      "The count is: 610\n",
      "The count is: 710\n",
      "The count is: 810\n",
      "The count is: 910\n",
      "The count is: 1010\n",
      "The count is: 1110\n",
      "The count is: 1210\n",
      "The count is: 1310\n",
      "The count is: 1410\n",
      "The count is: 1510\n",
      "The count is: 1610\n",
      "The count is: 1710\n",
      "The count is: 1810\n",
      "The count is: 1910\n",
      "The count is: 2010\n",
      "The count is: 2110\n"
     ]
    }
   ],
   "source": [
    "# Example of a while loop\n",
    "count = 10\n",
    "while count < 2200:\n",
    "    print(\"The count is:\", count)\n",
    "    count += 100\n"
   ]
  },
  {
   "cell_type": "code",
   "execution_count": 6,
   "metadata": {},
   "outputs": [
    {
     "name": "stdout",
     "output_type": "stream",
     "text": [
      "a is not greater than b\n"
     ]
    }
   ],
   "source": [
    "# if statement\n",
    "a = 10\n",
    "b = 20\n",
    "if a > b:\n",
    "    print(\"a is greater than b\")\n",
    "else:\n",
    "    print(\"a is not greater than b\")\n",
    "    "
   ]
  },
  {
   "cell_type": "code",
   "execution_count": 28,
   "metadata": {},
   "outputs": [
    {
     "name": "stdout",
     "output_type": "stream",
     "text": [
      "I like :  Aloo\n",
      "I like :  mutter\n",
      "I like :  gobhi\n",
      "I like :  tamator\n",
      "I like :  Samosay\n",
      "I like :  pakoray\n"
     ]
    }
   ],
   "source": [
    "#for loop\n",
    "menu = [\"Aloo\",\"mutter\",\"gobhi\",\"tamator\",\"Samosay\",\"pakoray\"]\n",
    "for x in menu:\n",
    "    print(\"I like : \", x)"
   ]
  },
  {
   "cell_type": "code",
   "execution_count": 31,
   "metadata": {},
   "outputs": [
    {
     "name": "stdout",
     "output_type": "stream",
     "text": [
      "I like :  ['Aloo', 'mutter', 'gobhi', 'tamator', 'Samosay', 'pakoray']\n",
      "I like :  ['Aloo', 'mutter', 'gobhi', 'tamator', 'Samosay', 'pakoray']\n",
      "I like :  ['Aloo', 'mutter', 'gobhi', 'tamator', 'Samosay', 'pakoray']\n",
      "I like :  ['Aloo', 'mutter', 'gobhi', 'tamator', 'Samosay', 'pakoray']\n",
      "I like :  ['Aloo', 'mutter', 'gobhi', 'tamator', 'Samosay', 'pakoray']\n",
      "I like :  ['Aloo', 'mutter', 'gobhi', 'tamator', 'Samosay', 'pakoray']\n"
     ]
    }
   ],
   "source": [
    "#for loop\n",
    "menu = [\"Aloo\",\"mutter\",\"gobhi\",\"tamator\",\"Samosay\",\"pakoray\"]\n",
    "for item in menu:\n",
    "    print(\"I like : \", menu)"
   ]
  },
  {
   "cell_type": "code",
   "execution_count": 39,
   "metadata": {},
   "outputs": [
    {
     "name": "stdout",
     "output_type": "stream",
     "text": [
      "0\n",
      "1\n",
      "2\n",
      "3\n",
      "4\n",
      "5\n",
      "6\n",
      "7\n",
      "8\n",
      "9\n"
     ]
    }
   ],
   "source": [
    "# While loop\n",
    "a = 0\n",
    "while a < 10:\n",
    "    print(a)\n",
    "    a = a+1"
   ]
  },
  {
   "cell_type": "code",
   "execution_count": 44,
   "metadata": {},
   "outputs": [
    {
     "name": "stdout",
     "output_type": "stream",
     "text": [
      "100\n",
      "150\n",
      "200\n",
      "250\n",
      "300\n",
      "350\n",
      "400\n",
      "450\n",
      "500\n",
      "550\n",
      "600\n",
      "650\n",
      "700\n",
      "750\n",
      "800\n",
      "850\n",
      "900\n",
      "950\n"
     ]
    }
   ],
   "source": [
    "# While loop\n",
    "a = 100\n",
    "while a < 1000:\n",
    "    print(a)\n",
    "    a = a+50"
   ]
  },
  {
   "cell_type": "code",
   "execution_count": 49,
   "metadata": {},
   "outputs": [
    {
     "name": "stdout",
     "output_type": "stream",
     "text": [
      "p\n",
      "y\n",
      "t\n",
      "H\n",
      "a\n",
      "s\n",
      "s\n",
      "a\n",
      "n\n",
      "p\n",
      "y\n",
      "t\n",
      "H\n",
      "a\n",
      "s\n",
      "s\n",
      "a\n",
      "n\n",
      "H\n",
      "a\n",
      "s\n",
      "s\n",
      "a\n",
      "n\n",
      "p\n",
      "y\n",
      "t\n"
     ]
    }
   ],
   "source": [
    "for letters in \"python\":\n",
    "    if letters == 'h':\n",
    "        break\n",
    "    print(letters)\n",
    "\n",
    "for letters in \"Hassan\":\n",
    "    if letters == 'h':\n",
    "        break\n",
    "    print(letters)\n",
    "for letters in \"python\":\n",
    "    if letters == 'h':\n",
    "        break\n",
    "    print(letters)\n",
    "\n",
    "for letters in \"Hassan\":\n",
    "    if letters == 'h':\n",
    "        break\n",
    "    print(letters)\n",
    "for letters in \"Hassan\":\n",
    "    if letters == 'h':\n",
    "        break\n",
    "    print(letters)\n",
    "\n",
    "for letters in \"python\":\n",
    "    if letters == 'h':\n",
    "        break\n",
    "    print(letters)"
   ]
  },
  {
   "cell_type": "code",
   "execution_count": 55,
   "metadata": {},
   "outputs": [
    {
     "name": "stdout",
     "output_type": "stream",
     "text": [
      "A\n",
      "b\n",
      "u\n",
      "l\n",
      "h\n",
      "a\n",
      "s\n",
      "s\n",
      "a\n",
      "n\n"
     ]
    }
   ],
   "source": [
    "for letters in \"Abulhassan\":\n",
    "    if letters == 'h':\n",
    "        pass\n",
    "    print(letters)\n",
    "\n"
   ]
  },
  {
   "cell_type": "code",
   "execution_count": 56,
   "metadata": {},
   "outputs": [
    {
     "name": "stdout",
     "output_type": "stream",
     "text": [
      "A\n",
      "b\n",
      "u\n",
      "l\n"
     ]
    }
   ],
   "source": [
    "for letters in \"Abulhassan\":\n",
    "    if letters == 'h':\n",
    "        break\n",
    "    print(letters)"
   ]
  },
  {
   "cell_type": "code",
   "execution_count": 59,
   "metadata": {},
   "outputs": [
    {
     "name": "stdout",
     "output_type": "stream",
     "text": [
      "A\n",
      "b\n",
      "b\n"
     ]
    }
   ],
   "source": [
    "for letters in \"Abbas\":\n",
    "    if letters == 'a':\n",
    "        break\n",
    "    print(letters)"
   ]
  },
  {
   "cell_type": "code",
   "execution_count": 62,
   "metadata": {},
   "outputs": [
    {
     "name": "stdout",
     "output_type": "stream",
     "text": [
      "A\n",
      "a\n",
      "s\n"
     ]
    }
   ],
   "source": [
    "for letters in \"Abbas\":\n",
    "    if letters == 'b':\n",
    "        continue\n",
    "    print(letters)"
   ]
  },
  {
   "cell_type": "code",
   "execution_count": 64,
   "metadata": {},
   "outputs": [
    {
     "name": "stdout",
     "output_type": "stream",
     "text": [
      "A\n",
      "b\n",
      "u\n",
      "h\n",
      "a\n",
      "s\n",
      "s\n",
      "a\n",
      "n\n"
     ]
    }
   ],
   "source": [
    "#All control statements are applying here\n",
    "for letters in \"Abulhassan\":\n",
    "    if letters == 'l':\n",
    "        continue\n",
    "    print(letters)"
   ]
  },
  {
   "cell_type": "code",
   "execution_count": null,
   "metadata": {},
   "outputs": [],
   "source": []
  }
 ],
 "metadata": {
  "kernelspec": {
   "display_name": "Python 3",
   "language": "python",
   "name": "python3"
  },
  "language_info": {
   "codemirror_mode": {
    "name": "ipython",
    "version": 3
   },
   "file_extension": ".py",
   "mimetype": "text/x-python",
   "name": "python",
   "nbconvert_exporter": "python",
   "pygments_lexer": "ipython3",
   "version": "3.11.5"
  }
 },
 "nbformat": 4,
 "nbformat_minor": 2
}
